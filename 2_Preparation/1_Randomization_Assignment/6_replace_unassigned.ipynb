{
 "cells": [
  {
   "cell_type": "markdown",
   "id": "64d08633",
   "metadata": {},
   "source": [
    "# Replace labs from assigned to unassigned. \n",
    "In the case of enumerator being unable to carry out assignment."
   ]
  },
  {
   "cell_type": "code",
   "execution_count": null,
   "id": "83d13b9b",
   "metadata": {},
   "outputs": [],
   "source": [
    "# Set date\n",
    "REPLACEMENT_DATE = \"2025_10_08\" # Date of running code, in yyyy_mm_dd format\n",
    "rewrite_error = True # Set equal to false in case no rewrite error, if true will use original assignments file"
   ]
  },
  {
   "cell_type": "code",
   "execution_count": 2,
   "id": "e589e11c",
   "metadata": {},
   "outputs": [],
   "source": [
    "# Set up\n",
    "import pandas as pd\n",
    "import numpy as np\n",
    "import sys\n",
    "from pathlib import Path\n",
    "CODE_ROOT = Path.cwd().parents[1]\n",
    "sys.path.append(str(CODE_ROOT))\n",
    "import config"
   ]
  },
  {
   "cell_type": "code",
   "execution_count": 11,
   "id": "b4278b11",
   "metadata": {},
   "outputs": [],
   "source": [
    "# Load datasets\n",
    "labs_df = pd.read_csv(config.LABS_LIST / \"LabsList_Randomized_Locations.csv\")\n",
    "existing_assignments = pd.read_csv(config.ENUMERATORS / \"assignedlabs.csv\")\n",
    "unassigned_labs = pd.read_csv(config.LABS_LIST / \"LabsList_Unassigned.csv\")\n",
    "replacements = pd.read_excel(config.LABS_LIST / \"labs_to_replace_unassigned.xlsx\")\n",
    "original_assignments = pd.read_csv(config.ENUMERATORS / \"assignedlabs_original.csv\")"
   ]
  },
  {
   "cell_type": "code",
   "execution_count": null,
   "id": "5457e9ad",
   "metadata": {},
   "outputs": [
    {
     "name": "stdout",
     "output_type": "stream",
     "text": [
      "Warning: enum_id 81.0 not found in existing_assignments or labs already replaced. Skipping.\n",
      "Labs to replace: []\n"
     ]
    }
   ],
   "source": [
    "# Identify labs to replace as unassigned\n",
    "labs_to_replace = []\n",
    "\n",
    "for _, row in replacements.iterrows():\n",
    "    enum_id = row[\"enum_id\"]\n",
    "    replace_all = row[\"replace_all\"]\n",
    "    lab = row[\"labgroupid\"]\n",
    "    \n",
    "    if replace_all == 0 and (lab is None or pd.isna(lab)):\n",
    "        print(f\"Warning: enum_id {enum_id} has replace_all=0 but missing labgroupid. Skipping.\")\n",
    "        continue\n",
    "\n",
    "    if replace_all == 1:\n",
    "        # Replace all labs for that enum_id\n",
    "        labs = existing_assignments.loc[\n",
    "            existing_assignments[\"enum_id\"] == enum_id, \"labgroupid\"\n",
    "        ]\n",
    "    else:\n",
    "        # Replace only the specific labgroupid\n",
    "        labs = existing_assignments.loc[\n",
    "            (existing_assignments[\"enum_id\"] == enum_id) &\n",
    "            (existing_assignments[\"labgroupid\"] == lab),\n",
    "            \"labgroupid\"\n",
    "        ]\n",
    "    \n",
    "    if labs.empty:\n",
    "        print(f\"Warning: enum_id {enum_id} not found in existing_assignments or labs already replaced. Skipping.\")\n",
    "        continue\n",
    "\n",
    "    # Skip missing labs\n",
    "    if not labs.empty:\n",
    "        labs_to_replace.extend(labs.tolist())\n",
    "\n",
    "labs_to_replace = list(set(labs_to_replace))\n",
    "\n",
    "print(\"Labs to replace:\", labs_to_replace)"
   ]
  },
  {
   "cell_type": "code",
   "execution_count": null,
   "id": "0091d80b",
   "metadata": {},
   "outputs": [
    {
     "name": "stdout",
     "output_type": "stream",
     "text": [
      "Labs to replace: [480, 135, 971, 157, 830, 255]\n"
     ]
    }
   ],
   "source": [
    "# Deal with error: existing assignment written over\n",
    "if rewrite_error = True:\n",
    "    labs_to_replace = []\n",
    "\n",
    "    for _, row in replacements.iterrows():\n",
    "        enum_id = row[\"enum_id\"]\n",
    "        replace_all = row[\"replace_all\"]\n",
    "        lab = row[\"labgroupid\"]\n",
    "        \n",
    "        if replace_all == 0 and (lab is None or pd.isna(lab)):\n",
    "            print(f\"Warning: enum_id {enum_id} has replace_all=0 but missing labgroupid. Skipping.\")\n",
    "            continue\n",
    "\n",
    "        if replace_all == 1:\n",
    "            # Replace all labs for that enum_id\n",
    "            labs = original_assignments.loc[\n",
    "                original_assignments[\"enum_id\"] == enum_id, \"labgroupid\"\n",
    "            ]\n",
    "        else:\n",
    "            # Replace only the specific labgroupid\n",
    "            labs = original_assignments.loc[\n",
    "                (original_assignments[\"enum_id\"] == enum_id) &\n",
    "                (original_assignments[\"labgroupid\"] == lab),\n",
    "                \"labgroupid\"\n",
    "            ]\n",
    "        \n",
    "        if labs.empty:\n",
    "            print(f\"Warning: enum_id {enum_id} not found in existing_assignments or labs already replaced. Skipping.\")\n",
    "            continue\n",
    "\n",
    "        # Skip missing labs\n",
    "        if not labs.empty:\n",
    "            labs_to_replace.extend(labs.tolist())\n",
    "\n",
    "    labs_to_replace = list(set(labs_to_replace))\n",
    "\n",
    "    print(\"Labs to replace:\", labs_to_replace)"
   ]
  },
  {
   "cell_type": "code",
   "execution_count": 16,
   "id": "954e2def",
   "metadata": {},
   "outputs": [],
   "source": [
    "# Remove from the existing assignments file\n",
    "\n",
    "# Identify assignments to keep\n",
    "new_existing_assignments = existing_assignments[\n",
    "    ~existing_assignments[\"labgroupid\"].isin(labs_to_replace)\n",
    "]\n",
    "\n",
    "# Order assignments by enumerator id and labgroupid\n",
    "new_existing_assignments = new_existing_assignments.sort_values(by=[\"enum_id\", \"labgroupid\"]).reset_index(drop=True)\n",
    "\n",
    "# Save the assignments file\n",
    "new_existing_assignments.to_csv(config.ENUMERATORS / \"assignedlabs.csv\", index=False)"
   ]
  },
  {
   "cell_type": "code",
   "execution_count": 17,
   "id": "043f35fa",
   "metadata": {},
   "outputs": [],
   "source": [
    "# Replace in the unassigned labs file\n",
    "\n",
    "# Identify the labs to replace\n",
    "labs_being_replaced = labs_df[\n",
    "    labs_df[\"labgroupid\"].isin(labs_to_replace)\n",
    "]\n",
    "\n",
    "# Remove lab groups in institute with no labs\n",
    "labs_being_replaced = labs_being_replaced[labs_being_replaced[\"Institute\"] != \"ICS\"]\n",
    "\n",
    "# Save the labs being replaced\n",
    "labs_being_replaced.to_csv(config.LABS_LIST / f\"replacedlabs_{REPLACEMENT_DATE}.csv\", index=False)\n",
    "\n",
    "# Add them to the unassigned labs\n",
    "new_unassigned_labs = pd.concat([unassigned_labs, labs_being_replaced], ignore_index=True)\n",
    "\n",
    "# Save the new list of unassigned labs\n",
    "new_unassigned_labs.to_csv(config.LABS_LIST / \"LabsList_Unassigned.csv\", index=False)"
   ]
  }
 ],
 "metadata": {
  "kernelspec": {
   "display_name": "labrct",
   "language": "python",
   "name": "python3"
  },
  "language_info": {
   "codemirror_mode": {
    "name": "ipython",
    "version": 3
   },
   "file_extension": ".py",
   "mimetype": "text/x-python",
   "name": "python",
   "nbconvert_exporter": "python",
   "pygments_lexer": "ipython3",
   "version": "3.10.18"
  }
 },
 "nbformat": 4,
 "nbformat_minor": 5
}
