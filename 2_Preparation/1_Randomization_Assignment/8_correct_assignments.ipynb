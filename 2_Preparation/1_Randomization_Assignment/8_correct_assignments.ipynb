{
 "cells": [
  {
   "cell_type": "markdown",
   "id": "d4ab8eb2",
   "metadata": {},
   "source": [
    "# Correcting enumerator assignments"
   ]
  },
  {
   "cell_type": "code",
   "execution_count": 1,
   "id": "7ac33f51",
   "metadata": {},
   "outputs": [],
   "source": [
    "# Set up\n",
    "import pandas as pd\n",
    "import numpy as np\n",
    "import sys\n",
    "from pathlib import Path\n",
    "CODE_ROOT = Path.cwd().parents[1]\n",
    "sys.path.append(str(CODE_ROOT))\n",
    "import config\n",
    "from openpyxl import load_workbook\n",
    "from openpyxl.styles import Font, PatternFill\n",
    "import os"
   ]
  },
  {
   "cell_type": "code",
   "execution_count": 2,
   "id": "18b66eed",
   "metadata": {},
   "outputs": [],
   "source": [
    "# Load datasets\n",
    "existing_assignments = pd.read_csv(config.ENUMERATORS / \"assignedlabs.csv\")\n",
    "all_enumerators = pd.read_csv(config.ENUMERATORS / \"all_enumerators.csv\")\n",
    "assignment_corrections = pd.read_excel(config.ENUMERATORS / \"enumerator_corrections.xlsx\")"
   ]
  },
  {
   "cell_type": "code",
   "execution_count": 3,
   "id": "8c7b1cb7",
   "metadata": {},
   "outputs": [],
   "source": [
    "# Correct assignments\n",
    "for _, row in assignment_corrections.iterrows():\n",
    "    enum_id_old = row[\"enum_id_old\"]\n",
    "    enum_id_new = row[\"enum_id_new\"]\n",
    "    labgroupid = row[\"labgroupid\"]\n",
    "\n",
    "    # Extract the new enumerator details from all_enumerators\n",
    "    new_enum_details = all_enumerators[all_enumerators[\"enum_id\"] == enum_id_new].iloc[0]\n",
    "\n",
    "    # Find the lab group in existing_assignments\n",
    "    mask = existing_assignments[\"labgroupid\"] == labgroupid\n",
    "\n",
    "    # Check if lab group enumerator already updated\n",
    "    already_updated = (\n",
    "        existing_assignments.loc[mask, \"enum_id\"] == enum_id_new\n",
    "    ).any()\n",
    "    \n",
    "    # Update the existing assignments if not already updated\n",
    "    if already_updated:\n",
    "        continue\n",
    "    else:\n",
    "        # replace the enumerator details (enum_id, enum_firstname, enum_lastname, enum_email)\n",
    "        existing_assignments.loc[\n",
    "            mask, [\"enum_id\", \"enum_firstname\", \"enum_lastname\", \"enum_email\"]] = [\n",
    "            new_enum_details[\"enum_id\"],\n",
    "            new_enum_details[\"firstname\"],\n",
    "            new_enum_details[\"lastname\"],\n",
    "            new_enum_details[\"email_cleaned\"]\n",
    "        ]\n"
   ]
  },
  {
   "cell_type": "code",
   "execution_count": 4,
   "id": "9e6a1024",
   "metadata": {},
   "outputs": [],
   "source": [
    "# Save updated assignments\n",
    "existing_assignments.to_csv(config.ENUMERATORS / \"assignedlabs.csv\", index=False)"
   ]
  }
 ],
 "metadata": {
  "kernelspec": {
   "display_name": "labrct",
   "language": "python",
   "name": "python3"
  },
  "language_info": {
   "codemirror_mode": {
    "name": "ipython",
    "version": 3
   },
   "file_extension": ".py",
   "mimetype": "text/x-python",
   "name": "python",
   "nbconvert_exporter": "python",
   "pygments_lexer": "ipython3",
   "version": "3.10.18"
  }
 },
 "nbformat": 4,
 "nbformat_minor": 5
}
