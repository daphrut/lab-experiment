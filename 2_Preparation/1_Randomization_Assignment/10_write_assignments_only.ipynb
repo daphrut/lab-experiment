{
 "cells": [
  {
   "cell_type": "code",
   "execution_count": 1,
   "id": "52223100",
   "metadata": {},
   "outputs": [],
   "source": [
    "# Set date of reassignment\n",
    "REASSIGNMENT_DATE = \"2025_10_22\" # Date of running this code, in YYYY_MM_DD format"
   ]
  },
  {
   "cell_type": "code",
   "execution_count": 2,
   "id": "3e46cfb9",
   "metadata": {},
   "outputs": [],
   "source": [
    "# Set up\n",
    "import pandas as pd\n",
    "import numpy as np\n",
    "import sys\n",
    "from pathlib import Path\n",
    "CODE_ROOT = Path.cwd().parents[1]\n",
    "sys.path.append(str(CODE_ROOT))\n",
    "import config\n",
    "from openpyxl import load_workbook\n",
    "from openpyxl.styles import Font, PatternFill\n",
    "import os\n",
    "from lab_assignment import assign_enumerators"
   ]
  },
  {
   "cell_type": "code",
   "execution_count": 6,
   "id": "9e5aafe2",
   "metadata": {},
   "outputs": [],
   "source": [
    "assignments = pd.read_csv(config.ENUMERATORS / f\"reassignedlabs_{REASSIGNMENT_DATE}.csv\")\n",
    "all_enumerators = pd.read_csv(config.ENUMERATORS / \"all_enumerators.csv\")\n",
    "\n",
    "# Merge to get enum_foldername\n",
    "assignments = assignments.merge(all_enumerators[['enum_id', 'foldername']], on='enum_id', how='left')"
   ]
  },
  {
   "cell_type": "code",
   "execution_count": 8,
   "id": "467ab37f",
   "metadata": {},
   "outputs": [],
   "source": [
    "# Create reassignments file for each enumerator\n",
    "\n",
    "# Rename columns for clarity\n",
    "assignments = assignments.rename(columns={\"Professor\": \"Lab Responsible Person\"})\n",
    "assignments = assignments.rename(columns={\"Source\": \"Website\"})\n",
    "\n",
    "# Columns to include in the enumerator's file\n",
    "cols_to_include = [\n",
    "    \"labgroupid\", \"Lab Group\", \"Faculty\", \"Institute\", \n",
    "    \"Lab Responsible Person\", \"Email\", \"Website\", \"Treatment Status\"\n",
    "]\n",
    "\n",
    "# Color treatment yellow and control no color\n",
    "fill_colors = {\n",
    "    \"treatment\": \"FFFF00\",  # Yellow\n",
    "    \"control\": \"FFFFFF\"     # No color (white)\n",
    "}\n",
    "\n",
    "for enum_id, enum_data in assignments.groupby(\"enum_id\"):\n",
    "\n",
    "    # Get enumerator info\n",
    "    id = enum_data[\"enum_id\"].iloc[0]\n",
    "    name = enum_data[\"foldername\"].iloc[0]\n",
    "    folder_name = f\"{name}_data\"\n",
    "\n",
    "    # Columns to include\n",
    "    labs_for_enum = enum_data[cols_to_include].copy()\n",
    "\n",
    "    # Create excel path\n",
    "    filename = os.path.join(config.SWITCHDRIVE_ROOT, folder_name, f\"new_lab_assignment_{REASSIGNMENT_DATE}.xlsx\")\n",
    "\n",
    "    # Save first without formatting\n",
    "    labs_for_enum.to_excel(filename, index=False)\n",
    "\n",
    "    # Load workbook and select active sheet\n",
    "    wb = load_workbook(filename)\n",
    "    ws = wb.active\n",
    "    ws.title = \"Lab Assignments\"\n",
    "\n",
    "    # Bold header row\n",
    "    for cell in ws[1]:\n",
    "        cell.font = Font(bold=True)\n",
    "\n",
    "    # Adjust column widths\n",
    "    for col in ws.columns:\n",
    "        max_length = 0\n",
    "        column = col[0].column_letter  # Get the column name\n",
    "        for cell in col:\n",
    "            try:\n",
    "                if cell.value:\n",
    "                    max_length = max(max_length, len(str(cell.value)))\n",
    "            except:\n",
    "                pass\n",
    "        adjusted_width = (max_length + 2)\n",
    "        ws.column_dimensions[column].width = adjusted_width\n",
    "\n",
    "    # Fill colors based on treatment status\n",
    "    for row in ws.iter_rows(min_row=2, max_row=ws.max_row, min_col=ws.min_column, max_col=ws.max_column):\n",
    "        status_cell = row[cols_to_include.index(\"Treatment Status\")]\n",
    "        status = str(status_cell.value).lower()\n",
    "        if status in fill_colors:\n",
    "            status_cell.fill = PatternFill(start_color=fill_colors[status], end_color=fill_colors[status], fill_type=\"solid\")\n",
    "    \n",
    "    # Save workbook\n",
    "    wb.save(filename)"
   ]
  }
 ],
 "metadata": {
  "kernelspec": {
   "display_name": "labrct",
   "language": "python",
   "name": "python3"
  },
  "language_info": {
   "codemirror_mode": {
    "name": "ipython",
    "version": 3
   },
   "file_extension": ".py",
   "mimetype": "text/x-python",
   "name": "python",
   "nbconvert_exporter": "python",
   "pygments_lexer": "ipython3",
   "version": "3.10.18"
  }
 },
 "nbformat": 4,
 "nbformat_minor": 5
}
