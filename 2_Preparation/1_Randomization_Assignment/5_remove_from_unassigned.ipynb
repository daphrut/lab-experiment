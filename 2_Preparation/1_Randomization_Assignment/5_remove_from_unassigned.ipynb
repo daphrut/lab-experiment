{
 "cells": [
  {
   "cell_type": "markdown",
   "id": "64d08633",
   "metadata": {},
   "source": [
    "# Removal of all lab groups from institute with no labs."
   ]
  },
  {
   "cell_type": "code",
   "execution_count": 1,
   "id": "e589e11c",
   "metadata": {},
   "outputs": [],
   "source": [
    "# Set up\n",
    "import pandas as pd\n",
    "import numpy as np\n",
    "import sys\n",
    "from pathlib import Path\n",
    "CODE_ROOT = Path.cwd().parents[1]\n",
    "sys.path.append(str(CODE_ROOT))\n",
    "import config"
   ]
  },
  {
   "cell_type": "code",
   "execution_count": 2,
   "id": "b4278b11",
   "metadata": {},
   "outputs": [],
   "source": [
    "# Load dataset\n",
    "unassigned_labs = pd.read_csv(config.LABS_LIST / \"LabsList_Unassigned.csv\")\n",
    "list_to_remove = pd.read_excel(config.LABS_LIST / \"labs_to_remove_unassigned.xlsx\")"
   ]
  },
  {
   "cell_type": "code",
   "execution_count": 3,
   "id": "5457e9ad",
   "metadata": {},
   "outputs": [],
   "source": [
    "# Remove lab groups in institute with no labs\n",
    "unassigned_labs = unassigned_labs[unassigned_labs[\"Institute\"] != \"ICS\"]"
   ]
  },
  {
   "cell_type": "code",
   "execution_count": 4,
   "id": "cac9c5fe",
   "metadata": {},
   "outputs": [],
   "source": [
    "# Remove lab groups in list \n",
    "labs_to_remove = list_to_remove['labgroupid'].tolist()\n",
    "\n",
    "unassigned_labs = unassigned_labs[\n",
    "    ~unassigned_labs[\"labgroupid\"].isin(labs_to_remove)\n",
    "]"
   ]
  },
  {
   "cell_type": "code",
   "execution_count": 5,
   "id": "eb3f3f44",
   "metadata": {},
   "outputs": [],
   "source": [
    "# Drop any duplicates in unassigned labs\n",
    "unassigned_labs = unassigned_labs.drop_duplicates()"
   ]
  },
  {
   "cell_type": "code",
   "execution_count": 6,
   "id": "954e2def",
   "metadata": {},
   "outputs": [],
   "source": [
    "# Save unassigned labs\n",
    "unassigned_labs.to_csv(config.LABS_LIST / \"LabsList_Unassigned.csv\", index=False)"
   ]
  }
 ],
 "metadata": {
  "kernelspec": {
   "display_name": "labrct",
   "language": "python",
   "name": "python3"
  },
  "language_info": {
   "codemirror_mode": {
    "name": "ipython",
    "version": 3
   },
   "file_extension": ".py",
   "mimetype": "text/x-python",
   "name": "python",
   "nbconvert_exporter": "python",
   "pygments_lexer": "ipython3",
   "version": "3.10.18"
  }
 },
 "nbformat": 4,
 "nbformat_minor": 5
}
