{
 "cells": [
  {
   "cell_type": "markdown",
   "id": "df6b4169",
   "metadata": {},
   "source": [
    "# Randomization of lab groups into control and treated groups"
   ]
  },
  {
   "cell_type": "code",
   "execution_count": 13,
   "id": "b3911d06",
   "metadata": {},
   "outputs": [],
   "source": [
    "# Set up\n",
    "import pandas as pd\n",
    "import numpy as np\n",
    "import sys\n",
    "from pathlib import Path\n",
    "CODE_ROOT = Path.cwd().parents[1]\n",
    "sys.path.append(str(CODE_ROOT))\n",
    "import config"
   ]
  },
  {
   "cell_type": "code",
   "execution_count": 14,
   "id": "b712a919",
   "metadata": {},
   "outputs": [],
   "source": [
    "# Load dataset\n",
    "labs = pd.read_excel(config.LABS_LIST / \"LabsListFinal.xlsx\")"
   ]
  },
  {
   "cell_type": "code",
   "execution_count": 15,
   "id": "c7e09f2a",
   "metadata": {},
   "outputs": [
    {
     "name": "stdout",
     "output_type": "stream",
     "text": [
      "Number of labs where enumerators work: 8\n",
      "Number of labs with an exclusion notice: 50\n",
      "Number of labs to exclude: 56\n"
     ]
    }
   ],
   "source": [
    "# Count labs with Enumerator lab == 1\n",
    "count_enum1 = (labs[\"Enumerator lab\"] == 1).sum()\n",
    "print(f\"Number of labs where enumerators work: {count_enum1}\")\n",
    "\n",
    "# Count labs with an exclusion reason\n",
    "count_exclusion_notice = labs[\"Exclusion Notice\"].notna().sum()\n",
    "print(f\"Number of labs with an exclusion notice: {count_exclusion_notice}\")\n",
    "\n",
    "# Flag labs to exclude\n",
    "labs[\"Exclude\"] = (labs[\"Enumerator lab\"] == 1) | (labs[\"Exclusion Notice\"].notna())\n",
    "count_exclude = (labs[\"Exclude\"] == 1).sum()\n",
    "print(f\"Number of labs to exclude: {count_exclude}\")\n",
    "\n",
    "# Remove these labs from the sample\n",
    "labs_sample = labs[~labs[\"Exclude\"]].copy()\n"
   ]
  },
  {
   "cell_type": "code",
   "execution_count": 16,
   "id": "188b9d5c",
   "metadata": {},
   "outputs": [
    {
     "name": "stdout",
     "output_type": "stream",
     "text": [
      "Lab groups without a name: 0\n",
      "Duplicate lab group names: 0\n",
      "Duplicate professors: 0\n",
      "Lab groups without a prof: 0\n",
      "Lab groups without an email: 0\n",
      "Faculty\n",
      "MNF              197\n",
      "MeF              112\n",
      "Joint MNF/MeF      2\n",
      "Name: count, dtype: int64\n",
      "Lab groups without a website: 28\n"
     ]
    }
   ],
   "source": [
    "# Clean the labs data\n",
    "\n",
    "# Create a lab group name column\n",
    "labs_sample.loc[:, \"Lab Group\"] = (\n",
    "    labs_sample[\"Lab Group\"]\n",
    "    .fillna(labs_sample[\"Lab Group alt\"])\n",
    "    .fillna(labs_sample[\"Professor\"])\n",
    ")\n",
    "\n",
    "# Check for missing lab groups names\n",
    "labs_missing_name = labs_sample[labs_sample[\"Lab Group\"].isna()]\n",
    "print(f\"Lab groups without a name: {len(labs_missing_name)}\")\n",
    "\n",
    "# Check for duplicate lab group names\n",
    "duplicate_labs = labs_sample[labs_sample.duplicated(subset=[\"Lab Group\"], keep=False)]\n",
    "print(f\"Duplicate lab group names: {len(duplicate_labs)}\")\n",
    "\n",
    "# Check for duplicate professors\n",
    "duplicate_profs = labs_sample[labs_sample.duplicated(subset=[\"Professor\"], keep=False)]\n",
    "print(f\"Duplicate professors: {len(duplicate_profs)}\")\n",
    "\n",
    "# Check for missing lab group professors\n",
    "labs_missing_prof = labs_sample[labs_sample[\"Professor\"].isna()]\n",
    "print(f\"Lab groups without a prof: {len(labs_missing_prof)}\")\n",
    "\n",
    "# Check for missing lab group emails\n",
    "labs_missing_email = labs_sample[labs_sample[\"Email\"].isna()]\n",
    "print(f\"Lab groups without an email: {len(labs_missing_email)}\")\n",
    "\n",
    "# Clean faculty names\n",
    "labs_sample.loc[labs_sample[\"Faculty\"].isin([\"MeF, MNF\"]), \"Faculty\"] = \"Joint MNF/MeF\"\n",
    "print(labs_sample[\"Faculty\"].value_counts(dropna=False))\n",
    "\n",
    "# Check for missing lab group websites\n",
    "labs_missing_website = labs_sample[labs_sample[\"Source\"].isna()]\n",
    "print(f\"Lab groups without a website: {len(labs_missing_website)}\")\n",
    "\n",
    "# Drop unnecessary columns\n",
    "labs_sample = labs_sample.dropna(axis=1, how=\"all\")\n",
    "labs_sample = labs_sample.drop(columns=[\"Lab Group alt\", \"Notes\", \"Exclude\"])"
   ]
  },
  {
   "cell_type": "code",
   "execution_count": 17,
   "id": "4e9660a6",
   "metadata": {},
   "outputs": [],
   "source": [
    "# Create lab group id (random and secure)\n",
    "np.random.seed(config.SEED)\n",
    "n_labs = len(labs_sample)\n",
    "labs_sample[\"labgroupid\"] = np.random.choice(np.arange(100, 999), size=n_labs, replace=False)\n",
    "\n",
    "# Reorder columns\n",
    "order = [\n",
    "    \"labgroupid\", \"Lab Group\", \"Faculty\", \"Institute\", \n",
    "    \"Professor\", \"Email\", \"Source\", \"Location SCH\", \"Location BOT\"\n",
    "]\n",
    "new_order = [col for col in order if col in labs_sample.columns]\n",
    "labs_sample = labs_sample[new_order]"
   ]
  },
  {
   "cell_type": "code",
   "execution_count": 18,
   "id": "b34e9476",
   "metadata": {},
   "outputs": [
    {
     "name": "stdout",
     "output_type": "stream",
     "text": [
      "Treatment Status\n",
      "control      156\n",
      "treatment    155\n",
      "Name: count, dtype: int64\n",
      "Treatment Status  Faculty      \n",
      "control           MNF              99\n",
      "treatment         MNF              98\n",
      "control           MeF              56\n",
      "treatment         MeF              56\n",
      "control           Joint MNF/MeF     1\n",
      "treatment         Joint MNF/MeF     1\n",
      "Name: count, dtype: int64\n"
     ]
    },
    {
     "name": "stderr",
     "output_type": "stream",
     "text": [
      "/var/folders/nn/21zflm3n7gzc5spw42wq352rpm87xt/T/ipykernel_68783/3618670372.py:14: FutureWarning: DataFrameGroupBy.apply operated on the grouping columns. This behavior is deprecated, and in a future version of pandas the grouping columns will be excluded from the operation. Either pass `include_groups=False` to exclude the groupings or explicitly select the grouping columns after groupby to silence this warning.\n",
      "  return df.groupby(group_col, group_keys=False).apply(assign)\n"
     ]
    }
   ],
   "source": [
    "# Randomize lab groups into treatment and control (50/50, stratified by faculty)\n",
    "np.random.seed(110)\n",
    "def stratified_randomize(df, group_col, treatment_col=\"Treatment Status\"):\n",
    "    \"\"\"Randomly assign 50/50 treatment and control within each group,\n",
    "       randomly assigning the extra lab if group size is odd.\"\"\"\n",
    "    def assign(group):\n",
    "        n = len(group)\n",
    "        labels = [\"treatment\"] * (n // 2) + [\"control\"] * (n // 2)\n",
    "        if n % 2 == 1:  # randomly assign extra lab if odd\n",
    "            labels.append(np.random.choice([\"treatment\", \"control\"]))\n",
    "        np.random.shuffle(labels)\n",
    "        group[treatment_col] = labels\n",
    "        return group\n",
    "    return df.groupby(group_col, group_keys=False).apply(assign)\n",
    "\n",
    "labs_sample = stratified_randomize(labs_sample, group_col=\"Faculty\")\n",
    "\n",
    "# See how many treatment and control labs\n",
    "print(labs_sample[\"Treatment Status\"].value_counts())\n",
    "\n",
    "#See how many treatment and control labs per faculty\n",
    "print(labs_sample[[\"Treatment Status\", \"Faculty\"]].value_counts())\n",
    "\n",
    "# Save the assigned labs list (no locations)\n",
    "cols_to_save = [col for col in labs_sample.columns if col not in [\"Location SCH\", \"Location BOT\"]]\n",
    "labs_sample.to_csv(config.LABS_LIST / \"LabsList_Randomized.csv\", index=False, columns=cols_to_save)\n",
    "\n",
    "# Save the assigned labs list with locations\n",
    "labs_sample.to_csv(config.LABS_LIST / \"LabsList_Randomized_Locations.csv\", index=False)\n"
   ]
  }
 ],
 "metadata": {
  "kernelspec": {
   "display_name": "labrct",
   "language": "python",
   "name": "python3"
  },
  "language_info": {
   "codemirror_mode": {
    "name": "ipython",
    "version": 3
   },
   "file_extension": ".py",
   "mimetype": "text/x-python",
   "name": "python",
   "nbconvert_exporter": "python",
   "pygments_lexer": "ipython3",
   "version": "3.10.18"
  }
 },
 "nbformat": 4,
 "nbformat_minor": 5
}
