{
 "cells": [
  {
   "cell_type": "markdown",
   "id": "cce637f6",
   "metadata": {},
   "source": [
    "# Drop non-responsive or non-existent labs from sample without reassignment."
   ]
  },
  {
   "cell_type": "code",
   "execution_count": 1,
   "id": "d0a0c1cb",
   "metadata": {},
   "outputs": [],
   "source": [
    "# Set up\n",
    "import pandas as pd\n",
    "import numpy as np\n",
    "import sys\n",
    "from pathlib import Path\n",
    "CODE_ROOT = Path.cwd().parents[1]\n",
    "sys.path.append(str(CODE_ROOT))\n",
    "import config\n",
    "from openpyxl import load_workbook\n",
    "from openpyxl.styles import Font, PatternFill\n",
    "import os\n",
    "from lab_assignment import assign_enumerators"
   ]
  },
  {
   "cell_type": "code",
   "execution_count": 2,
   "id": "8efb5a06",
   "metadata": {},
   "outputs": [],
   "source": [
    "# Load datasets\n",
    "existing_assignments = pd.read_csv(config.ENUMERATORS / \"assignedlabs.csv\")\n",
    "labs_to_remove_from_sample = pd.read_excel(config.LABS_LIST / \"labs_to_remove_from_sample.xlsx\")"
   ]
  },
  {
   "cell_type": "code",
   "execution_count": 3,
   "id": "d2805430",
   "metadata": {},
   "outputs": [
    {
     "name": "stderr",
     "output_type": "stream",
     "text": [
      "/var/folders/nn/21zflm3n7gzc5spw42wq352rpm87xt/T/ipykernel_78723/2554002830.py:8: FutureWarning: A value is trying to be set on a copy of a DataFrame or Series through chained assignment using an inplace method.\n",
      "The behavior will change in pandas 3.0. This inplace method will never work because the intermediate object on which we are setting values always behaves as a copy.\n",
      "\n",
      "For example, when doing 'df[col].method(value, inplace=True)', try using 'df.method({col: value}, inplace=True)' or df[col] = df[col].method(value) instead, to perform the operation inplace on the original object.\n",
      "\n",
      "\n",
      "  existing_assignments[\"out_of_sample\"].fillna(0, inplace=True)\n"
     ]
    }
   ],
   "source": [
    "# Flag labs as out of sample\n",
    "\n",
    "# Add a new column if it doesn’t already exist\n",
    "if \"out_of_sample\" not in existing_assignments.columns:\n",
    "    existing_assignments[\"out_of_sample\"] = 0\n",
    "\n",
    "# Replace out of sample with 0 if missing\n",
    "existing_assignments[\"out_of_sample\"].fillna(0, inplace=True)\n",
    "\n",
    "# Flag non-responsive or non-existent labs\n",
    "existing_assignments.loc[\n",
    "    existing_assignments[\"labgroupid\"].isin(labs_to_remove_from_sample[\"labgroupid\"]),\n",
    "    \"new_out_of_sample\"] = 1\n",
    "    \n",
    "# Replace old out of sample with new values\n",
    "existing_assignments.loc[existing_assignments[\"new_out_of_sample\"] == 1, \"out_of_sample\"] = 1"
   ]
  },
  {
   "cell_type": "code",
   "execution_count": 4,
   "id": "d29c968e",
   "metadata": {},
   "outputs": [],
   "source": [
    "# Reorder columns for saving assignments file\n",
    "assignments_order = [\n",
    "    \"labgroupid\", \"Lab Group\", \"Faculty\", \"Institute\", \n",
    "    \"Professor\", \"Email\", \"Source\", \"Treatment Status\", \n",
    "    \"enum_id\", \"enum_firstname\", \"enum_lastname\", \n",
    "    \"enum_email\", \"out_of_sample\"\n",
    "]\n",
    "\n",
    "# Save the assignments file\n",
    "cols_to_save = [col for col in assignments_order if col in existing_assignments.columns]\n",
    "existing_assignments.to_csv(config.ENUMERATORS / \"assignedlabs.csv\", index = False, columns = cols_to_save)"
   ]
  }
 ],
 "metadata": {
  "kernelspec": {
   "display_name": "labrct",
   "language": "python",
   "name": "python3"
  },
  "language_info": {
   "codemirror_mode": {
    "name": "ipython",
    "version": 3
   },
   "file_extension": ".py",
   "mimetype": "text/x-python",
   "name": "python",
   "nbconvert_exporter": "python",
   "pygments_lexer": "ipython3",
   "version": "3.10.18"
  }
 },
 "nbformat": 4,
 "nbformat_minor": 5
}
